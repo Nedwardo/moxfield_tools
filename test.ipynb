{
 "cells": [
  {
   "cell_type": "code",
   "execution_count": 1,
   "metadata": {},
   "outputs": [],
   "source": [
    "import requests\n",
    "import json\n",
    "import logging\n",
    "from src.tournament_result_sources.edh_top_16_source import EdhTop16Source\n",
    "from src.deck_sources.deck_source_factory import DeckSourceFactory\n",
    "from src.deck.deck import Deck\n",
    "\n",
    "logger = logging.getLogger()\n",
    "logger.setLevel(logging.DEBUG)\n",
    "source = EdhTop16Source()\n",
    "deck_list_source_factory = DeckSourceFactory()"
   ]
  },
  {
   "cell_type": "code",
   "execution_count": 2,
   "metadata": {},
   "outputs": [
    {
     "data": {
      "text/plain": [
       "7042"
      ]
     },
     "execution_count": 2,
     "metadata": {},
     "output_type": "execute_result"
    }
   ],
   "source": [
    "df = source.get_all_decks()\n",
    "len(df)"
   ]
  },
  {
   "cell_type": "code",
   "execution_count": 3,
   "metadata": {},
   "outputs": [
    {
     "name": "stderr",
     "output_type": "stream",
     "text": [
      "/tmp/ipykernel_19601/1322275988.py:2: SettingWithCopyWarning: \n",
      "A value is trying to be set on a copy of a slice from a DataFrame.\n",
      "Try using .loc[row_indexer,col_indexer] = value instead\n",
      "\n",
      "See the caveats in the documentation: https://pandas.pydata.org/pandas-docs/stable/user_guide/indexing.html#returning-a-view-versus-a-copy\n",
      "  trimmed_df[\"deck\"] = trimmed_df[\"decklist\"].apply(\n"
     ]
    }
   ],
   "source": [
    "trimmed_df = df[[\"winRate\", \"wins\", \"standing\", \"decklist\"]]\n",
    "trimmed_df[\"deck\"] = trimmed_df[\"decklist\"].apply(\n",
    "    deck_list_source_factory.get_deck\n",
    ")"
   ]
  },
  {
   "cell_type": "code",
   "execution_count": 4,
   "metadata": {},
   "outputs": [
    {
     "data": {
      "text/plain": [
       "6377"
      ]
     },
     "execution_count": 4,
     "metadata": {},
     "output_type": "execute_result"
    }
   ],
   "source": [
    "trimmed_df = trimmed_df.sort_values(\"winRate\", ascending=False).reset_index(drop=True)\n",
    "trimmed_df = trimmed_df.dropna()\n",
    "len(trimmed_df)"
   ]
  },
  {
   "cell_type": "code",
   "execution_count": 12,
   "metadata": {},
   "outputs": [],
   "source": [
    "def get_commanders_for_card(card_name: str) -> list[str]:\n",
    "    specific_df = trimmed_df[trimmed_df.apply(lambda row: row['deck'].contains(card_name) , axis=1)].reset_index(drop=True)\n",
    "    specific_list = list(specific_df[\"deck\"])\n",
    "    commanders = list(map(lambda deck: deck.commanders, specific_list))\n",
    "    commanders = list(map(lambda commanders: list(map(lambda commander: commander[\"name\"], commanders)), commanders))\n",
    "    return commanders"
   ]
  },
  {
   "cell_type": "code",
   "execution_count": 5,
   "metadata": {},
   "outputs": [
    {
     "data": {
      "text/html": [
       "<div>\n",
       "<style scoped>\n",
       "    .dataframe tbody tr th:only-of-type {\n",
       "        vertical-align: middle;\n",
       "    }\n",
       "\n",
       "    .dataframe tbody tr th {\n",
       "        vertical-align: top;\n",
       "    }\n",
       "\n",
       "    .dataframe thead th {\n",
       "        text-align: right;\n",
       "    }\n",
       "</style>\n",
       "<table border=\"1\" class=\"dataframe\">\n",
       "  <thead>\n",
       "    <tr style=\"text-align: right;\">\n",
       "      <th></th>\n",
       "      <th>cards</th>\n",
       "      <th>commanders</th>\n",
       "    </tr>\n",
       "  </thead>\n",
       "  <tbody>\n",
       "    <tr>\n",
       "      <th>0</th>\n",
       "      <td>\"Name Sticker\" Goblin</td>\n",
       "      <td>[Godo, Bandit Warlord]</td>\n",
       "    </tr>\n",
       "    <tr>\n",
       "      <th>1</th>\n",
       "      <td>Aarakocra Sneak</td>\n",
       "      <td>[Sefris of the Hidden Ways]</td>\n",
       "    </tr>\n",
       "    <tr>\n",
       "      <th>2</th>\n",
       "      <td>Abandon Reason</td>\n",
       "      <td>[Anje Falkenrath]</td>\n",
       "    </tr>\n",
       "    <tr>\n",
       "      <th>3</th>\n",
       "      <td>Abdel Adrian, Gorion's Ward</td>\n",
       "      <td>[Preston, the Vanisher, Tivit, Seller of Secre...</td>\n",
       "    </tr>\n",
       "    <tr>\n",
       "      <th>4</th>\n",
       "      <td>Abeyance</td>\n",
       "      <td>[Ao, the Dawn Sky, Hinata, Dawn-Crowned, Kaali...</td>\n",
       "    </tr>\n",
       "    <tr>\n",
       "      <th>...</th>\n",
       "      <td>...</td>\n",
       "      <td>...</td>\n",
       "    </tr>\n",
       "    <tr>\n",
       "      <th>5749</th>\n",
       "      <td>Zurzoth, Chaos Rider</td>\n",
       "      <td>[Ob Nixilis, Captive Kingpin, Armix, Filigree ...</td>\n",
       "    </tr>\n",
       "    <tr>\n",
       "      <th>5750</th>\n",
       "      <td>_____ Goblin</td>\n",
       "      <td>[Ob Nixilis, Captive Kingpin, Dihada, Binder o...</td>\n",
       "    </tr>\n",
       "    <tr>\n",
       "      <th>5751</th>\n",
       "      <td>Éomer, King of Rohan</td>\n",
       "      <td>[Winota, Joiner of Forces]</td>\n",
       "    </tr>\n",
       "    <tr>\n",
       "      <th>5752</th>\n",
       "      <td>Éomer, Marshal of Rohan</td>\n",
       "      <td>[Winota, Joiner of Forces]</td>\n",
       "    </tr>\n",
       "    <tr>\n",
       "      <th>5753</th>\n",
       "      <td>Éowyn, Fearless Knight</td>\n",
       "      <td>[Winota, Joiner of Forces]</td>\n",
       "    </tr>\n",
       "  </tbody>\n",
       "</table>\n",
       "<p>5754 rows × 2 columns</p>\n",
       "</div>"
      ],
      "text/plain": [
       "                            cards  \\\n",
       "0           \"Name Sticker\" Goblin   \n",
       "1                 Aarakocra Sneak   \n",
       "2                  Abandon Reason   \n",
       "3     Abdel Adrian, Gorion's Ward   \n",
       "4                        Abeyance   \n",
       "...                           ...   \n",
       "5749         Zurzoth, Chaos Rider   \n",
       "5750                 _____ Goblin   \n",
       "5751         Éomer, King of Rohan   \n",
       "5752      Éomer, Marshal of Rohan   \n",
       "5753       Éowyn, Fearless Knight   \n",
       "\n",
       "                                             commanders  \n",
       "0                                [Godo, Bandit Warlord]  \n",
       "1                           [Sefris of the Hidden Ways]  \n",
       "2                                     [Anje Falkenrath]  \n",
       "3     [Preston, the Vanisher, Tivit, Seller of Secre...  \n",
       "4     [Ao, the Dawn Sky, Hinata, Dawn-Crowned, Kaali...  \n",
       "...                                                 ...  \n",
       "5749  [Ob Nixilis, Captive Kingpin, Armix, Filigree ...  \n",
       "5750  [Ob Nixilis, Captive Kingpin, Dihada, Binder o...  \n",
       "5751                         [Winota, Joiner of Forces]  \n",
       "5752                         [Winota, Joiner of Forces]  \n",
       "5753                         [Winota, Joiner of Forces]  \n",
       "\n",
       "[5754 rows x 2 columns]"
      ]
     },
     "execution_count": 5,
     "metadata": {},
     "output_type": "execute_result"
    }
   ],
   "source": [
    "decklist_data = trimmed_df.copy()\n",
    "list_of_all_cards: list[list[str]] = []\n",
    "list_of_commanders: list[list[str]] = []\n",
    "for row in decklist_data.iterrows():\n",
    "    list_of_all_cards.append(sorted(list({card.name for card in row[1]['deck'].maindeck})))\n",
    "    list_of_commanders.append(sorted(list({card.name for card in row[1]['deck'].commanders})))\n",
    "decklist_data[\"cards\"] = list_of_all_cards\n",
    "decklist_data[\"commanders\"] = list_of_commanders\n",
    "card_name_df = decklist_data.copy()[[\"winRate\", \"wins\", \"standing\", \"cards\", \"commanders\"]]\n",
    "commanders_and_cards = card_name_df.explode(\"cards\")[[\"cards\", \"commanders\"]].groupby(\"cards\", as_index=False).sum()\n",
    "commanders_and_cards[\"commanders\"] = commanders_and_cards[\"commanders\"].apply(set).apply(list)\n",
    "count_cards = card_name_df.explode(\"cards\")[[\"cards\", \"commanders\"]].groupby(\"cards\", as_index=False).count().rename(columns={\"commanders\": \"count\"})\n",
    "card_stats = card_name_df[[\"winRate\", \"wins\", \"standing\", \"cards\"]].explode(\"cards\").groupby(\"cards\", as_index=False).mean().sort_values(\"winRate\", ascending=False).reset_index(drop=True)\n",
    "commanders_and_cards"
   ]
  },
  {
   "cell_type": "code",
   "execution_count": 6,
   "metadata": {},
   "outputs": [],
   "source": [
    "card_data = commanders_and_cards.merge(card_stats, on=\"cards\").merge(count_cards, on=\"cards\").sort_values(\"winRate\", ascending=False).reset_index(drop=True)\n",
    "card_data_as_list = []\n",
    "for row in card_data[card_data[\"count\"] > 100][[\"cards\", \"winRate\", \"count\"]].iterrows():\n",
    "    card_data_as_list.append(dict(row[1]))"
   ]
  },
  {
   "cell_type": "code",
   "execution_count": 7,
   "metadata": {},
   "outputs": [],
   "source": [
    "with open(\"card_data.json\", \"w\") as f:\n",
    "    json.dump(card_data_as_list, f, indent=4)"
   ]
  }
 ],
 "metadata": {
  "kernelspec": {
   "display_name": "Python 3",
   "language": "python",
   "name": "python3"
  },
  "language_info": {
   "codemirror_mode": {
    "name": "ipython",
    "version": 3
   },
   "file_extension": ".py",
   "mimetype": "text/x-python",
   "name": "python",
   "nbconvert_exporter": "python",
   "pygments_lexer": "ipython3",
   "version": "3.10.12"
  },
  "orig_nbformat": 4
 },
 "nbformat": 4,
 "nbformat_minor": 2
}
