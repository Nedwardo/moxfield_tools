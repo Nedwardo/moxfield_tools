{
 "cells": [
  {
   "cell_type": "code",
   "execution_count": 1,
   "metadata": {},
   "outputs": [],
   "source": [
    "from src.Goldfish import *\n",
    "from src.Cards.Card import *\n",
    "from src.Hypergeometric import *\n",
    "import pandas as pd"
   ]
  },
  {
   "cell_type": "code",
   "execution_count": 3,
   "metadata": {},
   "outputs": [
    {
     "data": {
      "text/plain": [
       "4.142857142857142"
      ]
     },
     "execution_count": 3,
     "metadata": {},
     "output_type": "execute_result"
    }
   ],
   "source": [
    "average_mana_total_with_max_lands(Goldfish().get_deck(), turn=0)"
   ]
  },
  {
   "cell_type": "code",
   "execution_count": 8,
   "metadata": {},
   "outputs": [],
   "source": [
    "from src.Hypergeometric import get_hand_odds\n",
    "cards = sum(get_hand_odds(sample_size=100000))\n",
    "unique_cards = set(cards)\n",
    "card_dict = {unique_card.name : 0 for unique_card in unique_cards}\n",
    "for card in cards:\n",
    "    card_dict[card.name] += 1\n",
    "cards = pd.DataFrame.from_dict(card_dict, orient=\"index\", columns=[\"Quantity\"]).sort_values(\"Quantity\", ascending=False).reset_index().rename(columns={\"index\" : \"Card Name\"})\n",
    "print(cards)"
   ]
  },
  {
   "cell_type": "code",
   "execution_count": 22,
   "metadata": {},
   "outputs": [],
   "source": [
    "\n",
    "\n"
   ]
  },
  {
   "cell_type": "code",
   "execution_count": 24,
   "metadata": {},
   "outputs": [
    {
     "data": {
      "text/html": [
       "<div>\n",
       "<style scoped>\n",
       "    .dataframe tbody tr th:only-of-type {\n",
       "        vertical-align: middle;\n",
       "    }\n",
       "\n",
       "    .dataframe tbody tr th {\n",
       "        vertical-align: top;\n",
       "    }\n",
       "\n",
       "    .dataframe thead th {\n",
       "        text-align: right;\n",
       "    }\n",
       "</style>\n",
       "<table border=\"1\" class=\"dataframe\">\n",
       "  <thead>\n",
       "    <tr style=\"text-align: right;\">\n",
       "      <th></th>\n",
       "      <th>Card Name</th>\n",
       "      <th>Quantity</th>\n",
       "    </tr>\n",
       "  </thead>\n",
       "  <tbody>\n",
       "    <tr>\n",
       "      <th>0</th>\n",
       "      <td>Jeska's Will</td>\n",
       "      <td>3405</td>\n",
       "    </tr>\n",
       "    <tr>\n",
       "      <th>1</th>\n",
       "      <td>Culling the Weak</td>\n",
       "      <td>3009</td>\n",
       "    </tr>\n",
       "    <tr>\n",
       "      <th>2</th>\n",
       "      <td>Cabal Ritual</td>\n",
       "      <td>2969</td>\n",
       "    </tr>\n",
       "    <tr>\n",
       "      <th>3</th>\n",
       "      <td>Grim Monolith</td>\n",
       "      <td>2958</td>\n",
       "    </tr>\n",
       "    <tr>\n",
       "      <th>4</th>\n",
       "      <td>Sol Ring</td>\n",
       "      <td>2044</td>\n",
       "    </tr>\n",
       "    <tr>\n",
       "      <th>5</th>\n",
       "      <td>Mana Crypt</td>\n",
       "      <td>2013</td>\n",
       "    </tr>\n",
       "    <tr>\n",
       "      <th>6</th>\n",
       "      <td>Dark Ritual</td>\n",
       "      <td>1993</td>\n",
       "    </tr>\n",
       "    <tr>\n",
       "      <th>7</th>\n",
       "      <td>Wheel of Fortune</td>\n",
       "      <td>1648</td>\n",
       "    </tr>\n",
       "    <tr>\n",
       "      <th>8</th>\n",
       "      <td>Diabolic Intent</td>\n",
       "      <td>1608</td>\n",
       "    </tr>\n",
       "    <tr>\n",
       "      <th>9</th>\n",
       "      <td>Praetor's Grasp</td>\n",
       "      <td>1603</td>\n",
       "    </tr>\n",
       "    <tr>\n",
       "      <th>10</th>\n",
       "      <td>Transmute Artifact</td>\n",
       "      <td>1581</td>\n",
       "    </tr>\n",
       "    <tr>\n",
       "      <th>11</th>\n",
       "      <td>Gamble</td>\n",
       "      <td>1579</td>\n",
       "    </tr>\n",
       "    <tr>\n",
       "      <th>12</th>\n",
       "      <td>Timetwister</td>\n",
       "      <td>1561</td>\n",
       "    </tr>\n",
       "    <tr>\n",
       "      <th>13</th>\n",
       "      <td>Vampiric Tutor</td>\n",
       "      <td>1560</td>\n",
       "    </tr>\n",
       "    <tr>\n",
       "      <th>14</th>\n",
       "      <td>Windfall</td>\n",
       "      <td>1556</td>\n",
       "    </tr>\n",
       "    <tr>\n",
       "      <th>15</th>\n",
       "      <td>Mystical Tutor</td>\n",
       "      <td>1556</td>\n",
       "    </tr>\n",
       "    <tr>\n",
       "      <th>16</th>\n",
       "      <td>Wishclaw Talisman</td>\n",
       "      <td>1555</td>\n",
       "    </tr>\n",
       "    <tr>\n",
       "      <th>17</th>\n",
       "      <td>Demonic Tutor</td>\n",
       "      <td>1547</td>\n",
       "    </tr>\n",
       "    <tr>\n",
       "      <th>18</th>\n",
       "      <td>Wheel of Misfortune</td>\n",
       "      <td>1525</td>\n",
       "    </tr>\n",
       "    <tr>\n",
       "      <th>19</th>\n",
       "      <td>Imperial Seal</td>\n",
       "      <td>1523</td>\n",
       "    </tr>\n",
       "  </tbody>\n",
       "</table>\n",
       "</div>"
      ],
      "text/plain": [
       "              Card Name  Quantity\n",
       "0          Jeska's Will      3405\n",
       "1      Culling the Weak      3009\n",
       "2          Cabal Ritual      2969\n",
       "3         Grim Monolith      2958\n",
       "4              Sol Ring      2044\n",
       "5            Mana Crypt      2013\n",
       "6           Dark Ritual      1993\n",
       "7      Wheel of Fortune      1648\n",
       "8       Diabolic Intent      1608\n",
       "9       Praetor's Grasp      1603\n",
       "10   Transmute Artifact      1581\n",
       "11               Gamble      1579\n",
       "12          Timetwister      1561\n",
       "13       Vampiric Tutor      1560\n",
       "14             Windfall      1556\n",
       "15       Mystical Tutor      1556\n",
       "16    Wishclaw Talisman      1555\n",
       "17        Demonic Tutor      1547\n",
       "18  Wheel of Misfortune      1525\n",
       "19        Imperial Seal      1523"
      ]
     },
     "execution_count": 24,
     "metadata": {},
     "output_type": "execute_result"
    }
   ],
   "source": [
    "cards.head(20)"
   ]
  },
  {
   "cell_type": "code",
   "execution_count": 2,
   "metadata": {},
   "outputs": [],
   "source": [
    "goldfish = Goldfish()\n",
    "hand = goldfish.get_hand()\n",
    "deck = goldfish.get_deck().mainboard"
   ]
  },
  {
   "cell_type": "code",
   "execution_count": 3,
   "metadata": {},
   "outputs": [
    {
     "data": {
      "text/plain": [
       "2"
      ]
     },
     "execution_count": 3,
     "metadata": {},
     "output_type": "execute_result"
    }
   ],
   "source": [
    "deck[\"Mana Crypt\"].get_mana_generation_quantity()"
   ]
  },
  {
   "cell_type": "code",
   "execution_count": 5,
   "metadata": {},
   "outputs": [
    {
     "name": "stdout",
     "output_type": "stream",
     "text": [
      "['Badlands', 'Bloodstained Mire', 'Diabolic Intent', 'Mana Crypt', 'Brainstorm', 'Gemstone Mine', 'Wooded Foothills']\n",
      "4 lands\n",
      "one card win con in hand? = True\n",
      "has wheel? = False\n",
      "1 tutors\n",
      "mana capacity = 6\n"
     ]
    }
   ],
   "source": [
    "hand.mulligan()\n",
    "print(hand)\n",
    "print(f\"{hand.land_count()} lands\\none card win con in hand? = {hand.has_one_card_win_con(True)}\\nhas wheel? = {hand.has_tag('Wheel')}\\n{hand.count_tag('Tutor')} tutors\\nmana capacity = {hand.get_max_mana_value()}\")"
   ]
  },
  {
   "cell_type": "code",
   "execution_count": 18,
   "metadata": {},
   "outputs": [
    {
     "data": {
      "text/plain": [
       "0"
      ]
     },
     "execution_count": 18,
     "metadata": {},
     "output_type": "execute_result"
    }
   ],
   "source": [
    "hand.get_sum_rituals(False)"
   ]
  },
  {
   "cell_type": "code",
   "execution_count": 6,
   "metadata": {},
   "outputs": [
    {
     "name": "stdout",
     "output_type": "stream",
     "text": [
      "['Polluted Delta', 'Underground Sea', 'Dark Ritual', \"Warrior's Oath\", 'Mox Diamond', 'Simian Spirit Guide', 'Vampiric Tutor', 'Gemstone Caverns', \"Bolas's Citadel\"]\n",
      "3 lands\n",
      "one card win con in hand? = True\n",
      "has wheel? = False\n",
      "1 tutors\n",
      "mana capacity = 5\n"
     ]
    }
   ],
   "source": [
    "hand.draw()\n",
    "print(hand)\n",
    "print(f\"{hand.land_count()} lands\\none card win con in hand? = {hand.has_one_card_win_con(True)}\\nhas wheel? = {hand.has_tag('Wheel')}\\n{hand.count_tag('Tutor')} tutors\\nmana capacity = {hand.get_max_mana_value()}\")"
   ]
  },
  {
   "cell_type": "code",
   "execution_count": 10,
   "metadata": {},
   "outputs": [
    {
     "data": {
      "text/plain": [
       "[{'name': 'Mox Diamond', 'cmc': 0, 'type_line': 'Artifact', 'oracle_text': \"If Mox Diamond would enter the battlefield, you may discard a land card instead. If you do, put Mox Diamond onto the battlefield. If you don't, put it into its owner's graveyard.\\n{T}: Add one mana of any color.\", 'mana_cost': '{0}', 'moxfield_tags': ['Mana positive rock'], 'custom_tags': ['+1 mana', 'ritual']}, {'name': 'Simian Spirit Guide', 'cmc': 3.0, 'type_line': 'Creature — Ape Spirit', 'oracle_text': 'Exile Simian Spirit Guide from your hand: Add {R}.', 'mana_cost': '{2}{R}', 'power': '2', 'toughness': '2', 'moxfield_tags': ['Ritual'], 'custom_tags': ['+1 mana', 'ritual']}]"
      ]
     },
     "execution_count": 10,
     "metadata": {},
     "output_type": "execute_result"
    }
   ],
   "source": [
    "hand.filter(Card.is_mana_rock)"
   ]
  },
  {
   "cell_type": "code",
   "execution_count": 9,
   "metadata": {},
   "outputs": [
    {
     "data": {
      "text/plain": [
       "2"
      ]
     },
     "execution_count": 9,
     "metadata": {},
     "output_type": "execute_result"
    }
   ],
   "source": []
  },
  {
   "cell_type": "code",
   "execution_count": 30,
   "metadata": {},
   "outputs": [
    {
     "data": {
      "text/plain": [
       "False"
      ]
     },
     "execution_count": 30,
     "metadata": {},
     "output_type": "execute_result"
    }
   ],
   "source": [
    "hand.is_castable(\"Wheel of Misfortune\")"
   ]
  }
 ],
 "metadata": {
  "kernelspec": {
   "display_name": "Python 3",
   "language": "python",
   "name": "python3"
  },
  "language_info": {
   "codemirror_mode": {
    "name": "ipython",
    "version": 3
   },
   "file_extension": ".py",
   "mimetype": "text/x-python",
   "name": "python",
   "nbconvert_exporter": "python",
   "pygments_lexer": "ipython3",
   "version": "3.10.10"
  },
  "orig_nbformat": 4,
  "vscode": {
   "interpreter": {
    "hash": "1d7b70b7493458a4b7bcc16c128d98160d646f05a5c1d738749478f748a2edfd"
   }
  }
 },
 "nbformat": 4,
 "nbformat_minor": 2
}
