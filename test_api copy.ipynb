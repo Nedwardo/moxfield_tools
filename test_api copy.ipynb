{
 "cells": [
  {
   "cell_type": "code",
   "execution_count": 11,
   "metadata": {},
   "outputs": [],
   "source": [
    "import requests\n",
    "import json\n",
    "from src.tournament_result_sources.edh_top_16_source import EdhTop16Source\n",
    "from src.deck_sources.deck_source_factory import DeckSourceFactory\n",
    "from src.deck.deck import Deck"
   ]
  },
  {
   "cell_type": "code",
   "execution_count": 2,
   "metadata": {},
   "outputs": [],
   "source": [
    "source = EdhTop16Source()\n",
    "deck_list_source_factory = DeckSourceFactory()"
   ]
  },
  {
   "cell_type": "code",
   "execution_count": 3,
   "metadata": {},
   "outputs": [
    {
     "data": {
      "text/html": [
       "<div>\n",
       "<style scoped>\n",
       "    .dataframe tbody tr th:only-of-type {\n",
       "        vertical-align: middle;\n",
       "    }\n",
       "\n",
       "    .dataframe tbody tr th {\n",
       "        vertical-align: top;\n",
       "    }\n",
       "\n",
       "    .dataframe thead th {\n",
       "        text-align: right;\n",
       "    }\n",
       "</style>\n",
       "<table border=\"1\" class=\"dataframe\">\n",
       "  <thead>\n",
       "    <tr style=\"text-align: right;\">\n",
       "      <th></th>\n",
       "      <th>name</th>\n",
       "      <th>profile</th>\n",
       "      <th>decklist</th>\n",
       "      <th>wins</th>\n",
       "      <th>winsSwiss</th>\n",
       "      <th>winsBracket</th>\n",
       "      <th>winRate</th>\n",
       "      <th>winRateSwiss</th>\n",
       "      <th>winRateBracket</th>\n",
       "      <th>draws</th>\n",
       "      <th>losses</th>\n",
       "      <th>lossesSwiss</th>\n",
       "      <th>lossesBracket</th>\n",
       "      <th>standing</th>\n",
       "      <th>colorID</th>\n",
       "      <th>commander</th>\n",
       "      <th>tournamentName</th>\n",
       "      <th>dateCreated</th>\n",
       "    </tr>\n",
       "  </thead>\n",
       "  <tbody>\n",
       "    <tr>\n",
       "      <th>0</th>\n",
       "      <td>Ian Flannery</td>\n",
       "      <td>GHPNb0E7DnWMVIsJIhYSXre58rB3</td>\n",
       "      <td>https://www.moxfield.com/decks/OaGq6tkEpkK-tYe...</td>\n",
       "      <td>5</td>\n",
       "      <td>3</td>\n",
       "      <td>2.0</td>\n",
       "      <td>0.714286</td>\n",
       "      <td>0.6</td>\n",
       "      <td>1.0</td>\n",
       "      <td>2</td>\n",
       "      <td>0</td>\n",
       "      <td>0</td>\n",
       "      <td>0.0</td>\n",
       "      <td>1</td>\n",
       "      <td>WUB</td>\n",
       "      <td>Tivit, Seller of Secrets</td>\n",
       "      <td>Mox Masters October 22</td>\n",
       "      <td>1664607601</td>\n",
       "    </tr>\n",
       "    <tr>\n",
       "      <th>1</th>\n",
       "      <td>Guus the Goose</td>\n",
       "      <td>sd2LCfHFtHbkVFzUQHSCTVZptNW2</td>\n",
       "      <td>https://www.moxfield.com/decks/ZiflpjHO8E-6jQF...</td>\n",
       "      <td>4</td>\n",
       "      <td>3</td>\n",
       "      <td>1.0</td>\n",
       "      <td>0.571429</td>\n",
       "      <td>0.6</td>\n",
       "      <td>0.5</td>\n",
       "      <td>2</td>\n",
       "      <td>1</td>\n",
       "      <td>0</td>\n",
       "      <td>1.0</td>\n",
       "      <td>2</td>\n",
       "      <td>WBG</td>\n",
       "      <td>Halana, Kessig Ranger / Tymna the Weaver</td>\n",
       "      <td>Mox Masters October 22</td>\n",
       "      <td>1664607601</td>\n",
       "    </tr>\n",
       "    <tr>\n",
       "      <th>2</th>\n",
       "      <td>Vincent aprano</td>\n",
       "      <td>ZBIP4U330ZMav1R4M7mnHciERGb2</td>\n",
       "      <td>https://www.moxfield.com/decks/QpkKBAxRcUq0czF...</td>\n",
       "      <td>4</td>\n",
       "      <td>3</td>\n",
       "      <td>1.0</td>\n",
       "      <td>0.571429</td>\n",
       "      <td>0.6</td>\n",
       "      <td>0.5</td>\n",
       "      <td>1</td>\n",
       "      <td>2</td>\n",
       "      <td>1</td>\n",
       "      <td>1.0</td>\n",
       "      <td>3</td>\n",
       "      <td>UBR</td>\n",
       "      <td>Armix, Filigree Thrasher / Kraum, Ludevic's Opus</td>\n",
       "      <td>Mox Masters October 22</td>\n",
       "      <td>1664607601</td>\n",
       "    </tr>\n",
       "  </tbody>\n",
       "</table>\n",
       "</div>"
      ],
      "text/plain": [
       "             name                       profile  \\\n",
       "0    Ian Flannery  GHPNb0E7DnWMVIsJIhYSXre58rB3   \n",
       "1  Guus the Goose  sd2LCfHFtHbkVFzUQHSCTVZptNW2   \n",
       "2  Vincent aprano  ZBIP4U330ZMav1R4M7mnHciERGb2   \n",
       "\n",
       "                                            decklist  wins  winsSwiss  \\\n",
       "0  https://www.moxfield.com/decks/OaGq6tkEpkK-tYe...     5          3   \n",
       "1  https://www.moxfield.com/decks/ZiflpjHO8E-6jQF...     4          3   \n",
       "2  https://www.moxfield.com/decks/QpkKBAxRcUq0czF...     4          3   \n",
       "\n",
       "   winsBracket   winRate  winRateSwiss  winRateBracket  draws  losses  \\\n",
       "0          2.0  0.714286           0.6             1.0      2       0   \n",
       "1          1.0  0.571429           0.6             0.5      2       1   \n",
       "2          1.0  0.571429           0.6             0.5      1       2   \n",
       "\n",
       "   lossesSwiss  lossesBracket  standing colorID  \\\n",
       "0            0            0.0         1     WUB   \n",
       "1            0            1.0         2     WBG   \n",
       "2            1            1.0         3     UBR   \n",
       "\n",
       "                                          commander          tournamentName  \\\n",
       "0                          Tivit, Seller of Secrets  Mox Masters October 22   \n",
       "1          Halana, Kessig Ranger / Tymna the Weaver  Mox Masters October 22   \n",
       "2  Armix, Filigree Thrasher / Kraum, Ludevic's Opus  Mox Masters October 22   \n",
       "\n",
       "   dateCreated  \n",
       "0   1664607601  \n",
       "1   1664607601  \n",
       "2   1664607601  "
      ]
     },
     "execution_count": 3,
     "metadata": {},
     "output_type": "execute_result"
    }
   ],
   "source": [
    "df = source.get_all_decks()\n",
    "df.head(3)"
   ]
  },
  {
   "cell_type": "code",
   "execution_count": 4,
   "metadata": {},
   "outputs": [
    {
     "name": "stderr",
     "output_type": "stream",
     "text": [
      "/tmp/ipykernel_24922/1322275988.py:2: SettingWithCopyWarning: \n",
      "A value is trying to be set on a copy of a slice from a DataFrame.\n",
      "Try using .loc[row_indexer,col_indexer] = value instead\n",
      "\n",
      "See the caveats in the documentation: https://pandas.pydata.org/pandas-docs/stable/user_guide/indexing.html#returning-a-view-versus-a-copy\n",
      "  trimmed_df[\"deck\"] = trimmed_df[\"decklist\"].apply(\n"
     ]
    }
   ],
   "source": [
    "trimmed_df = df[[\"winRate\", \"wins\", \"standing\", \"decklist\"]]\n",
    "trimmed_df[\"deck\"] = trimmed_df[\"decklist\"].apply(\n",
    "    deck_list_source_factory.get_deck\n",
    ")"
   ]
  },
  {
   "cell_type": "code",
   "execution_count": 5,
   "metadata": {},
   "outputs": [],
   "source": [
    "trimmed_df = trimmed_df.sort_values(\"winRate\", ascending=False).reset_index(drop=True)"
   ]
  },
  {
   "cell_type": "code",
   "execution_count": 6,
   "metadata": {},
   "outputs": [],
   "source": [
    "trimmed_df = trimmed_df.dropna()"
   ]
  },
  {
   "cell_type": "code",
   "execution_count": 24,
   "metadata": {},
   "outputs": [
    {
     "data": {
      "text/plain": [
       "220"
      ]
     },
     "execution_count": 24,
     "metadata": {},
     "output_type": "execute_result"
    }
   ],
   "source": [
    "len(trimmed_df)"
   ]
  },
  {
   "cell_type": "code",
   "execution_count": 19,
   "metadata": {},
   "outputs": [
    {
     "data": {
      "text/plain": [
       "65"
      ]
     },
     "execution_count": 19,
     "metadata": {},
     "output_type": "execute_result"
    }
   ],
   "source": [
    "trimmed_df[trimmed_df.apply(lambda row: row['deck'].contains(\"Allosaurus Shepherd\") , axis=1)].size"
   ]
  },
  {
   "cell_type": "code",
   "execution_count": 20,
   "metadata": {},
   "outputs": [],
   "source": [
    "shep_df = trimmed_df[trimmed_df.apply(lambda row: row['deck'].contains(\"Allosaurus Shepherd\") , axis=1)].reset_index(drop=True)"
   ]
  },
  {
   "cell_type": "code",
   "execution_count": 28,
   "metadata": {},
   "outputs": [],
   "source": [
    "shep_list = list(shep_df[\"deck\"])\n"
   ]
  },
  {
   "cell_type": "code",
   "execution_count": 32,
   "metadata": {},
   "outputs": [
    {
     "data": {
      "text/plain": [
       "[['Animar, Soul of Elements'],\n",
       " ['Captain Sisay'],\n",
       " ['Tayam, Luminous Enigma'],\n",
       " ['Marath, Will of the Wild'],\n",
       " ['Rocco, Cabaretti Caterer'],\n",
       " ['Tana, the Bloodsower', 'Tymna the Weaver'],\n",
       " ['Tana, the Bloodsower', 'Malcolm, Keen-Eyed Navigator'],\n",
       " ['Rocco, Cabaretti Caterer'],\n",
       " ['Tana, the Bloodsower', 'Malcolm, Keen-Eyed Navigator'],\n",
       " ['Tana, the Bloodsower', 'Tymna the Weaver'],\n",
       " ['Tana, the Bloodsower', 'Tymna the Weaver'],\n",
       " ['Tana, the Bloodsower', 'Malcolm, Keen-Eyed Navigator'],\n",
       " ['Rocco, Cabaretti Caterer']]"
      ]
     },
     "execution_count": 32,
     "metadata": {},
     "output_type": "execute_result"
    }
   ],
   "source": [
    "commanders = list(map(lambda deck: deck.commanders, shep_list))\n",
    "commanders = list(map(lambda commanders: list(map(lambda commander: commander[\"name\"], commanders)), commanders))\n",
    "commanders"
   ]
  }
 ],
 "metadata": {
  "kernelspec": {
   "display_name": "Python 3",
   "language": "python",
   "name": "python3"
  },
  "language_info": {
   "codemirror_mode": {
    "name": "ipython",
    "version": 3
   },
   "file_extension": ".py",
   "mimetype": "text/x-python",
   "name": "python",
   "nbconvert_exporter": "python",
   "pygments_lexer": "ipython3",
   "version": "3.10.12"
  },
  "orig_nbformat": 4
 },
 "nbformat": 4,
 "nbformat_minor": 2
}
